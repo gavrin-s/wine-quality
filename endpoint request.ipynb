{
 "cells": [
  {
   "cell_type": "code",
   "execution_count": 1,
   "metadata": {},
   "outputs": [],
   "source": [
    "import requests"
   ]
  },
  {
   "cell_type": "code",
   "execution_count": 2,
   "metadata": {},
   "outputs": [],
   "source": [
    "url = 'http://127.0.0.1:9999/predict'"
   ]
  },
  {
   "cell_type": "code",
   "execution_count": null,
   "metadata": {},
   "outputs": [],
   "source": [
    "7.8;0.76;0.04;2.3;0.092;15;54;0.997;3.26;0.65;9.8;5"
   ]
  },
  {
   "cell_type": "code",
   "execution_count": 113,
   "metadata": {},
   "outputs": [],
   "source": [
    "params ={'fixed acidity': 7.8,\n",
    "         'volatile acidity': 0.760,\n",
    "         'citric acid': 0.4,\n",
    "         'residual sugar': 2.30,\n",
    "         'chlorides': 0.092,\n",
    "         'free sulfur dioxide': 15,\n",
    "         'total sulfur dioxide': 54,\n",
    "         'density': 0.997,\n",
    "         'pH': 3.26,\n",
    "         'sulphates': 0.65,\n",
    "         'alcohol': 9.8,\n",
    "         'color': 'red'\n",
    "        }\n",
    "response = requests.post(url, json=params)"
   ]
  },
  {
   "cell_type": "code",
   "execution_count": 114,
   "metadata": {
    "scrolled": true
   },
   "outputs": [
    {
     "data": {
      "text/plain": [
       "{'prediction': '5'}"
      ]
     },
     "execution_count": 114,
     "metadata": {},
     "output_type": "execute_result"
    }
   ],
   "source": [
    "response.json()"
   ]
  }
 ],
 "metadata": {
  "kernelspec": {
   "display_name": "Python 3",
   "language": "python",
   "name": "python3"
  },
  "language_info": {
   "codemirror_mode": {
    "name": "ipython",
    "version": 3
   },
   "file_extension": ".py",
   "mimetype": "text/x-python",
   "name": "python",
   "nbconvert_exporter": "python",
   "pygments_lexer": "ipython3",
   "version": "3.6.7"
  }
 },
 "nbformat": 4,
 "nbformat_minor": 2
}
