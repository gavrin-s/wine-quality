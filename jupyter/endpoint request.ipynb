{
 "cells": [
  {
   "cell_type": "code",
   "execution_count": 1,
   "metadata": {},
   "outputs": [],
   "source": [
    "import requests"
   ]
  },
  {
   "cell_type": "code",
   "execution_count": 2,
   "metadata": {},
   "outputs": [],
   "source": [
    "url = 'http://172.17.0.1:9999/predict'\n",
    "url = 'http://0.0.0.0:9999/predict'"
   ]
  },
  {
   "cell_type": "code",
   "execution_count": 3,
   "metadata": {},
   "outputs": [
    {
     "data": {
      "text/plain": [
       "5"
      ]
     },
     "execution_count": 3,
     "metadata": {},
     "output_type": "execute_result"
    }
   ],
   "source": [
    "7.8;0.76;0.04;2.3;0.092;15;54;0.997;3.26;0.65;9.8;5"
   ]
  },
  {
   "cell_type": "code",
   "execution_count": 20,
   "metadata": {},
   "outputs": [],
   "source": [
    "params =[{'fixed acidity': 6.6,\n",
    "         'volatile acidity': 0.760,\n",
    "         'citric acid': \"0.4\",\n",
    "         'residual sugar': 2.30,\n",
    "         'chlorides': 0.092,\n",
    "         'free sulfur dioxide': 15,\n",
    "         'total sulfur dioxide': 54,\n",
    "         'density': 0.997,\n",
    "         'pH': 3.26,\n",
    "         'sulphates': 0.65,\n",
    "         'alcohol': 9.8,\n",
    "         'color': 'red'\n",
    "        }]\n",
    "response = requests.post(url, json=params)"
   ]
  },
  {
   "cell_type": "code",
   "execution_count": 21,
   "metadata": {},
   "outputs": [],
   "source": [
    "a = response.json()"
   ]
  },
  {
   "cell_type": "code",
   "execution_count": 22,
   "metadata": {},
   "outputs": [
    {
     "data": {
      "text/plain": [
       "['message']"
      ]
     },
     "execution_count": 22,
     "metadata": {},
     "output_type": "execute_result"
    }
   ],
   "source": [
    "list(a.keys())"
   ]
  },
  {
   "cell_type": "code",
   "execution_count": 23,
   "metadata": {
    "scrolled": true
   },
   "outputs": [
    {
     "data": {
      "text/plain": [
       "{'message': 'Invalid type'}"
      ]
     },
     "execution_count": 23,
     "metadata": {},
     "output_type": "execute_result"
    }
   ],
   "source": [
    "a"
   ]
  },
  {
   "cell_type": "code",
   "execution_count": 1,
   "metadata": {},
   "outputs": [],
   "source": [
    "import json"
   ]
  },
  {
   "cell_type": "code",
   "execution_count": 71,
   "metadata": {},
   "outputs": [],
   "source": [
    "with open(\"to_predict.json\", 'r') as f:\n",
    "    d = json.load(f)"
   ]
  },
  {
   "cell_type": "code",
   "execution_count": 72,
   "metadata": {},
   "outputs": [
    {
     "data": {
      "text/plain": [
       "{'fixed acidity': 6.6,\n",
       " 'volatile acidity': 0.17,\n",
       " 'citric acid': 0.38,\n",
       " 'residual sugar': 1.5,\n",
       " 'chlorides': 0.032,\n",
       " 'free sulfur dioxide': 28,\n",
       " 'total sulfur dioxide': 112,\n",
       " 'density': 0.9914,\n",
       " 'pH': 3.25,\n",
       " 'sulphates': 0.55,\n",
       " 'alcohol': 11.4,\n",
       " 'color': 'white'}"
      ]
     },
     "execution_count": 72,
     "metadata": {},
     "output_type": "execute_result"
    }
   ],
   "source": [
    "d"
   ]
  },
  {
   "cell_type": "code",
   "execution_count": null,
   "metadata": {},
   "outputs": [],
   "source": []
  }
 ],
 "metadata": {
  "kernelspec": {
   "display_name": "Python 3",
   "language": "python",
   "name": "python3"
  },
  "language_info": {
   "codemirror_mode": {
    "name": "ipython",
    "version": 3
   },
   "file_extension": ".py",
   "mimetype": "text/x-python",
   "name": "python",
   "nbconvert_exporter": "python",
   "pygments_lexer": "ipython3",
   "version": "3.6.7"
  }
 },
 "nbformat": 4,
 "nbformat_minor": 2
}
