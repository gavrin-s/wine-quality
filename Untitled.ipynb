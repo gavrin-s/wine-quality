{
 "cells": [
  {
   "cell_type": "code",
   "execution_count": 1,
   "metadata": {},
   "outputs": [],
   "source": [
    "import pandas as pd\n"
   ]
  },
  {
   "cell_type": "code",
   "execution_count": 2,
   "metadata": {},
   "outputs": [],
   "source": [
    "a = [{\n",
    "\t\"fixed acidity\": 6.6,\n",
    "\t\"volatile acidity\": 0.760,\n",
    "\t\"citric acid\": 0.4,\n",
    "\t\"residual sugar\": 2.30,\n",
    "\t\"chlorides\": 0.092,\n",
    "\t\"free sulfur dioxide\": 15,\n",
    "\t\"total sulfur dioxide\": 54,\n",
    "\t\"density\": 0.997,\n",
    "\t\"pH\": 3.26,\n",
    "\t\"sulphates\": 0.65,\n",
    "\t\"alcohol\": 9.8,\n",
    "\t\"color\": \"red\"\n",
    "},\n",
    "{\n",
    "\t\"fixed acidity\": 6.6,\n",
    "\t\"volatile acidity\": 0.760,\n",
    "\t\"citric acid\": 0.4,\n",
    "\t\"residual sugar\": 2.30,\n",
    "\t\"chlorides\": 0.092,\n",
    "\t\"free sulfur dioxide\": 15,\n",
    "\t\"total sulfur dioxide\": 54,\n",
    "\t\"density\": 0.997,\n",
    "\t\"pH\": 3.26,\n",
    "\t\"sulphates\": 0.65,\n",
    "\t\"alcohol\": 9.8,\n",
    "\t\"color\": \"red\"\n",
    "}\n",
    "]"
   ]
  },
  {
   "cell_type": "code",
   "execution_count": 6,
   "metadata": {},
   "outputs": [],
   "source": [
    "columns = ['fixed acidity', 'volatile acidity', 'citric acid', 'residual sugar',\n",
    "               'chlorides', 'free sulfur dioxide', 'total sulfur dioxide', 'density',\n",
    "               'pH', 'sulphates', 'alcohol', 'color'\n",
    "               ]"
   ]
  },
  {
   "cell_type": "code",
   "execution_count": 7,
   "metadata": {},
   "outputs": [],
   "source": [
    "df = pd.DataFrame(a, columns=columns)\n"
   ]
  },
  {
   "cell_type": "code",
   "execution_count": 8,
   "metadata": {},
   "outputs": [
    {
     "data": {
      "text/html": [
       "<div>\n",
       "<style scoped>\n",
       "    .dataframe tbody tr th:only-of-type {\n",
       "        vertical-align: middle;\n",
       "    }\n",
       "\n",
       "    .dataframe tbody tr th {\n",
       "        vertical-align: top;\n",
       "    }\n",
       "\n",
       "    .dataframe thead th {\n",
       "        text-align: right;\n",
       "    }\n",
       "</style>\n",
       "<table border=\"1\" class=\"dataframe\">\n",
       "  <thead>\n",
       "    <tr style=\"text-align: right;\">\n",
       "      <th></th>\n",
       "      <th>fixed acidity</th>\n",
       "      <th>volatile acidity</th>\n",
       "      <th>citric acid</th>\n",
       "      <th>residual sugar</th>\n",
       "      <th>chlorides</th>\n",
       "      <th>free sulfur dioxide</th>\n",
       "      <th>total sulfur dioxide</th>\n",
       "      <th>density</th>\n",
       "      <th>pH</th>\n",
       "      <th>sulphates</th>\n",
       "      <th>alcohol</th>\n",
       "      <th>color</th>\n",
       "    </tr>\n",
       "  </thead>\n",
       "  <tbody>\n",
       "    <tr>\n",
       "      <th>0</th>\n",
       "      <td>6.6</td>\n",
       "      <td>0.76</td>\n",
       "      <td>0.4</td>\n",
       "      <td>2.3</td>\n",
       "      <td>0.092</td>\n",
       "      <td>15</td>\n",
       "      <td>54</td>\n",
       "      <td>0.997</td>\n",
       "      <td>3.26</td>\n",
       "      <td>0.65</td>\n",
       "      <td>9.8</td>\n",
       "      <td>red</td>\n",
       "    </tr>\n",
       "    <tr>\n",
       "      <th>1</th>\n",
       "      <td>6.6</td>\n",
       "      <td>0.76</td>\n",
       "      <td>0.4</td>\n",
       "      <td>2.3</td>\n",
       "      <td>0.092</td>\n",
       "      <td>15</td>\n",
       "      <td>54</td>\n",
       "      <td>0.997</td>\n",
       "      <td>3.26</td>\n",
       "      <td>0.65</td>\n",
       "      <td>9.8</td>\n",
       "      <td>red</td>\n",
       "    </tr>\n",
       "  </tbody>\n",
       "</table>\n",
       "</div>"
      ],
      "text/plain": [
       "   fixed acidity  volatile acidity  citric acid  residual sugar  chlorides  \\\n",
       "0            6.6              0.76          0.4             2.3      0.092   \n",
       "1            6.6              0.76          0.4             2.3      0.092   \n",
       "\n",
       "   free sulfur dioxide  total sulfur dioxide  density    pH  sulphates  \\\n",
       "0                   15                    54    0.997  3.26       0.65   \n",
       "1                   15                    54    0.997  3.26       0.65   \n",
       "\n",
       "   alcohol color  \n",
       "0      9.8   red  \n",
       "1      9.8   red  "
      ]
     },
     "execution_count": 8,
     "metadata": {},
     "output_type": "execute_result"
    }
   ],
   "source": [
    "df"
   ]
  },
  {
   "cell_type": "code",
   "execution_count": null,
   "metadata": {},
   "outputs": [],
   "source": []
  }
 ],
 "metadata": {
  "kernelspec": {
   "display_name": "Python 3",
   "language": "python",
   "name": "python3"
  },
  "language_info": {
   "codemirror_mode": {
    "name": "ipython",
    "version": 3
   },
   "file_extension": ".py",
   "mimetype": "text/x-python",
   "name": "python",
   "nbconvert_exporter": "python",
   "pygments_lexer": "ipython3",
   "version": "3.6.7"
  }
 },
 "nbformat": 4,
 "nbformat_minor": 2
}
